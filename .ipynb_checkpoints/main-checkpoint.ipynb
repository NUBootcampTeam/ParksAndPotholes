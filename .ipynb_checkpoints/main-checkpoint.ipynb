{
 "cells": [
  {
   "cell_type": "code",
   "execution_count": 2,
   "metadata": {},
   "outputs": [],
   "source": [
    "# Dependencies and Setup\n",
    "%matplotlib inline\n",
    "from config import gkey\n",
    "import matplotlib.pyplot as plt\n",
    "import pandas as pd\n",
    "import numpy as np\n",
    "import gmaps\n",
    "import json\n",
    "import scipy.stats as st\n",
    "import requests\n",
    "from scipy.stats import linregress\n",
    "from sklearn import linear_model\n",
    "\n",
    "# Configure gmaps\n",
    "gmaps.configure(api_key=gkey)\n",
    "\n",
    "# Hide warning messages in notebook\n",
    "import warnings\n",
    "warnings.filterwarnings('ignore')\n",
    "\n",
    "# Files to Load\n",
    "potholes = pd.read_csv(\"Resources/311_Service_Requests_-_Pot_Holes_Reported_-_Historical-2016.csv\")\n",
    "crime = pd.read_csv(\"Resources/Crimes_-_2001_to_present(2016).csv\")\n",
    "parks = pd.read_csv(\"Resources/CPD_Parks.csv\")\n",
    "socio = pd.read_csv(\"Resources/Census_Data_-_Selected_socioeconomic_indicators_in_Chicago__2008___2012.csv\")"
   ]
  },
  {
   "cell_type": "code",
   "execution_count": null,
   "metadata": {},
   "outputs": [],
   "source": [
    "#JP Read CSVs\n",
    "crime_141516_data=pd.read_csv(r\"C:\\Users\\The Doctor\\Documents\\GitHub\\ParksAndPotholes\\Resources\\crime_141516_filtered.csv\")\n",
    "crime_14_data=pd.read_csv(r\"C:\\Users\\The Doctor\\Documents\\GitHub\\ParksAndPotholes\\Resources\\Crimes_2014_filtered.csv\")\n",
    "crim_de_15_data=pd.read_csv(r\"C:\\Users\\The Doctor\\Documents\\GitHub\\ParksAndPotholes\\Resources\\Crimes_2015_filtered.csv\")\n",
    "crime_16_data=pd.read_csv(r\"C:\\Users\\The Doctor\\Documents\\GitHub\\ParksAndPotholes\\Resources\\Crimes_2016_filtered.csv\")\n",
    "park_data=pd.read_csv(r\"C:\\Users\\The Doctor\\Documents\\GitHub\\ParksAndPotholes\\Resources\\cpd_parks_filtered.csv\")"
   ]
  },
  {
   "cell_type": "code",
   "execution_count": null,
   "metadata": {},
   "outputs": [],
   "source": [
    "#JP Parks Data\n",
    "park_acres = park_data.groupby(['WARD'])\n",
    "park_acres_ward_sum=park_data.groupby('WARD')[['ACRES']].sum()\n",
    "park_acres_ward_sum_indexed = park_acres_ward_sum.reset_index()\n",
    "park_acres_ward_sum_indexed.drop([0])\n",
    "\n",
    "# Set x axis and tick locations\n",
    "x_axis = np.arange(len(park_acres_ward_sum_indexed))\n",
    "tick_locations = [value+0.4 for value in x_axis]\n",
    "\n",
    "#need to rename WARD to ward\n",
    "park_acres_ward_sum_indexed.columns = ['Ward', 'Acres']\n",
    "park_acres_ward_sum_indexed2=park_acres_ward_sum_indexed.drop([0])"
   ]
  },
  {
   "cell_type": "code",
   "execution_count": null,
   "metadata": {},
   "outputs": [],
   "source": [
    "#JP Parks Histogram\n",
    "plt.figure(figsize=(20,3))\n",
    "plt.bar(x_axis, park_acres_ward_sum_indexed2[\"Acres\"], color='r', alpha=0.5, align=\"edge\")\n",
    "plt.xticks(tick_locations, park_acres_ward_sum_indexed2[\"Ward\"], rotation=\"vertical\")\n",
    "\n",
    "# Set a Title and labels\n",
    "plt.title(\"PARD ACREAGE BY WARD\")\n",
    "plt.xlabel(\"WARD\")\n",
    "plt.ylabel(\"PARK ACREAGE\")\n",
    "\n",
    "#plt.show()\n",
    "plt.savefig(\"acre_ward.png\")"
   ]
  },
  {
   "cell_type": "code",
   "execution_count": null,
   "metadata": {},
   "outputs": [],
   "source": [
    "#JP Crime DFs\n",
    "#OK dataframeize 2016 crime\n",
    "crime_16_data_count=crime_16_data.groupby('Ward')[['Primary Type']].count()\n",
    "crime_16_data_count_indexed = crime_16_data_count.reset_index()\n",
    "\n",
    "#merging datasets by ward\n",
    "merge_pc_2016 = pd.merge(crime_16_data_count_indexed, park_acres_ward_sum_indexed2, on=\"Ward\")"
   ]
  },
  {
   "cell_type": "code",
   "execution_count": null,
   "metadata": {},
   "outputs": [],
   "source": [
    "#JP Crimes Histogram\n",
    "# Set x axis and tick locations\n",
    "x_axis = np.arange(len(crime_16_data_count_indexed))\n",
    "tick_locations = [value+0.4 for value in x_axis]\n",
    "\n",
    "plt.figure(figsize=(20,3))\n",
    "plt.bar(x_axis, crime_16_data_count_indexed[\"Primary Type\"], color='r', alpha=0.5, align=\"edge\")\n",
    "plt.xticks(tick_locations, crime_16_data_count_indexed[\"Ward\"], rotation=\"vertical\")\n",
    "# Set a Title and labels\n",
    "plt.title(\"TOP 5 CRIMES COUNT BY WARD\")\n",
    "plt.xlabel(\"WARD\")\n",
    "plt.ylabel(\"CRIME COUNT\")\n",
    "plt.savefig(\"Top5Crime.png\")\n",
    "#plt.show()"
   ]
  },
  {
   "cell_type": "code",
   "execution_count": null,
   "metadata": {},
   "outputs": [],
   "source": [
    "#JP Combined Histogram\n",
    "\n",
    "# Set x axis and tick locations\n",
    "x_axis = np.arange(len(merge_pc_2016))\n",
    "tick_locations = [value+0.4 for value in x_axis]\n",
    "\n",
    "plt.figure(figsize=(20,3))\n",
    "plt.bar(x_axis, merge_pc_2016[\"Primary Type\"], color='r', alpha=0.5, align=\"edge\", label='Crime Count')\n",
    "plt.bar(x_axis, merge_pc_2016[\"Acres\"], color='b', alpha=0.5, align=\"edge\", label='Park Acreage')\n",
    "\n",
    "plt.xticks(tick_locations, merge_pc_2016[\"Ward\"], rotation=\"vertical\")\n",
    "\n",
    "# Set a Title and labels\n",
    "plt.title(\"CRIME BY WARD\")\n",
    "plt.xlabel(\"WARD\")\n",
    "plt.ylabel(\"Whatever\")\n",
    "plt.legend()\n",
    "plt.show()"
   ]
  },
  {
   "cell_type": "code",
   "execution_count": null,
   "metadata": {},
   "outputs": [],
   "source": [
    "#YZ set up\n",
    "\n",
    "# Files to Load\n",
    "population = pd.read_csv(\"Resources/Census-Data-by-Chicago-Community-Area-2016.csv\")\n",
    "sociecn = pd.read_csv(\"Resources/Census_Data_-_Selected_socioeconomic_indicators_in_Chicago__2008___2012.csv\")\n",
    "sociecn = sociecn[:-1]\n",
    "sociecn['Community Area Number'] = sociecn['Community Area Number'].astype(int)\n",
    "sociecn = sociecn.rename(columns = {'Community Area Number':'Community Area'})"
   ]
  },
  {
   "cell_type": "code",
   "execution_count": null,
   "metadata": {},
   "outputs": [],
   "source": [
    "#YZ crime\n",
    "\n",
    "# Get crime counts and grouped by community\n",
    "\n",
    "# ***FBI code specifies the crime type, consider if need to use***\n",
    "\n",
    "crime = crime[['Ward', 'Community Area']]\n",
    "group_community = crime.groupby(['Community Area'], as_index=False)\n",
    "crime_group = group_community.count()\n",
    "crime_group = crime_group.rename(columns = {'Ward':'Crime Count'})"
   ]
  },
  {
   "cell_type": "code",
   "execution_count": null,
   "metadata": {},
   "outputs": [],
   "source": [
    "# YZ Merge datasets\n",
    "combine = crime_group.merge(sociecn, on = 'Community Area', how = 'outer')\\\n",
    ".merge(population, on = 'Community Area', how = 'outer')\n",
    "combine = combine.drop(columns = 'COMMUNITY AREA NAME')\n",
    "combine = combine.reindex(sorted(combine.columns), axis=1)\n",
    "\n",
    "# Adjusting crime by population\n",
    "combine['Crime Count Adjusted'] = combine['Crime Count'] / combine['population']"
   ]
  },
  {
   "cell_type": "code",
   "execution_count": null,
   "metadata": {},
   "outputs": [],
   "source": [
    "#YZ Scatterplot\n",
    "\n",
    "# Get correlations and scatter plot\n",
    "correlation = st.pearsonr(combine.iloc[:, 8], combine['Crime Count Adjusted'])\n",
    "print(f\"The correlation between both factors is {round(correlation[0],2)}\")\n",
    "plt.scatter(combine.iloc[:, 8], combine['Crime Count Adjusted'])\n",
    "plt.xlabel('% Households Below Poverty')\n",
    "plt.ylabel('Crime Count Adjusted')\n",
    "plt.grid()\n",
    "plt.show()"
   ]
  },
  {
   "cell_type": "code",
   "execution_count": null,
   "metadata": {},
   "outputs": [],
   "source": [
    "#YZ getting df for heatmap\n",
    "community_lnglat = combine[['Community', 'Community Area']]\n",
    "# Add columns for lat, lng, airport name, airport address, airport rating\n",
    "# Note that we used \"\" to specify initial entry.\n",
    "community_lnglat[\"Lat\"] = \"\"\n",
    "community_lnglat[\"Lng\"] = \"\"\n",
    "\n",
    "# create a params dict that will be updated with new city each iteration\n",
    "params = {\"key\": gkey}\n",
    "\n",
    "# Loop through the cities_pd and run a lat/long search for each city\n",
    "for index, row in community_lnglat.iterrows():\n",
    "    base_url = \"https://maps.googleapis.com/maps/api/geocode/json\"\n",
    "\n",
    "    community = row['Community']\n",
    "\n",
    "    # update address key value\n",
    "    params['address'] = f\"{community},Chicago,Illinois\"\n",
    "\n",
    "    # make request\n",
    "    communities_lat_lng = requests.get(base_url, params=params)\n",
    "    \n",
    "    # convert to json\n",
    "    communities_lat_lng = communities_lat_lng.json()\n",
    "\n",
    "    community_lnglat.loc[index, \"Lat\"] = communities_lat_lng[\"results\"][0][\"geometry\"][\"location\"][\"lat\"]\n",
    "    community_lnglat.loc[index, \"Lng\"] = communities_lat_lng[\"results\"][0][\"geometry\"][\"location\"][\"lng\"]\n",
    "\n",
    "# Visualize to confirm lat lng appear\n",
    "community_lnglat.head()"
   ]
  },
  {
   "cell_type": "code",
   "execution_count": null,
   "metadata": {},
   "outputs": [],
   "source": [
    "#YZ Heatmap\n",
    "\n",
    "# Store latitude, longitude, and weights\n",
    "locations = community_lnglat[['Lat', 'Lng']]\n",
    "poverty = combine.iloc[:, 8]\n",
    "\n",
    "# Plot Heatmap\n",
    "fig = gmaps.figure()\n",
    "\n",
    "heat_layer = gmaps.heatmap_layer(locations, weights = poverty,\n",
    "                                 dissipating=False, max_intensity=28,\n",
    "                                 point_radius = 0.016)\n",
    "\n",
    "fig.add_layer(heat_layer)\n",
    "fig"
   ]
  },
  {
   "cell_type": "code",
   "execution_count": null,
   "metadata": {},
   "outputs": [],
   "source": [
    "#VC dfs\n",
    "\n",
    "#pothole df\n",
    "potholes_df=potholes.groupby(['Community Area']).count()\n",
    "potholes_df.reset_index(inplace=True)\n",
    "potholes_df=potholes_df.drop(potholes_df.index[0])\n",
    "y=potholes_df['CREATION DATE']\n",
    "\n",
    "#crime df\n",
    "crime_df=crime.groupby(['Community Area']).count()\n",
    "x=crime_df['Case Number']"
   ]
  },
  {
   "cell_type": "code",
   "execution_count": null,
   "metadata": {},
   "outputs": [],
   "source": [
    "#VC scatterplot\n",
    "\n",
    "plt.scatter(x,y)\n",
    "slope, intercept, r_value, p_value, std_err = stats.linregress(x,y)\n",
    "line = slope*x+intercept\n",
    "plt.plot(x,y,'o', x, line)"
   ]
  },
  {
   "cell_type": "code",
   "execution_count": null,
   "metadata": {},
   "outputs": [],
   "source": [
    "#VC stats\n",
    "\n",
    "covariance=cov(x,y)\n",
    "\n",
    "corr, _ = pearsonr(x, y)\n",
    "print('Pearsons correlation: %.3f' % corr)"
   ]
  },
  {
   "cell_type": "code",
   "execution_count": null,
   "metadata": {},
   "outputs": [],
   "source": [
    "#DS df & scatterplot\n",
    "\n",
    "group_potholes = potholes.groupby(\"Community Area\").count()\n",
    "\n",
    "# Plot out potholes v socioeconomic status by ward\n",
    "x_values = group_potholes['NUMBER OF POTHOLES FILLED ON BLOCK']\n",
    "y_values = socio['Community Area Number']\n",
    "plt.scatter(x_values,y_values)\n",
    "plt.xlabel('Potholes(filled)')\n",
    "plt.ylabel('Average Income ($)')\n",
    "plt.show()"
   ]
  },
  {
   "cell_type": "code",
   "execution_count": null,
   "metadata": {},
   "outputs": [],
   "source": [
    "#DS Linear Regression \n",
    "x_values = group_potholes['NUMBER OF POTHOLES FILLED ON BLOCK']\n",
    "y_values = socio['Community Area Number']\n",
    "(slope, intercept, rvalue, pvalue, stderr) = linregress(x_values, y_values)\n",
    "regress_values = x_values * slope + intercept\n",
    "line_eq = \"y = \" + str(round(slope,2)) + \"x + \" + str(round(intercept,2))\n",
    "plt.scatter(x_values,y_values)\n",
    "plt.plot(x_values,regress_values,\"r-\")\n",
    "plt.annotate(line_eq,(6,10),fontsize=15,color=\"red\")\n",
    "plt.xlabel('Potholes(reported)')\n",
    "plt.ylabel('Average Income ($)')\n",
    "print(f\"The r-squared is: {rvalue}\")\n",
    "plt.show()"
   ]
  },
  {
   "cell_type": "code",
   "execution_count": 11,
   "metadata": {},
   "outputs": [],
   "source": [
    "#MK dfs\n",
    "\n",
    "cleanpotholes=potholes.dropna(subset=['NUMBER OF POTHOLES FILLED ON BLOCK', 'LATITUDE', 'LONGITUDE'])\n",
    "potlocations = cleanpotholes[[\"LATITUDE\", \"LONGITUDE\"]]\n",
    "potholenumber = cleanpotholes[\"NUMBER OF POTHOLES FILLED ON BLOCK\"].astype(float)"
   ]
  },
  {
   "cell_type": "code",
   "execution_count": 18,
   "metadata": {},
   "outputs": [
    {
     "data": {
      "application/vnd.jupyter.widget-view+json": {
       "model_id": "b402fb5d8e844beba48cd80b61db83d9",
       "version_major": 2,
       "version_minor": 0
      },
      "text/plain": [
       "Figure(layout=FigureLayout(height='420px'))"
      ]
     },
     "metadata": {},
     "output_type": "display_data"
    }
   ],
   "source": [
    "#MK heatmap\n",
    "fig2 = gmaps.figure()\n",
    "\n",
    "# Create heat layer\n",
    "heat_layer2 = gmaps.heatmap_layer(potlocations, weights=potholenumber, \n",
    "                                 dissipating=False, max_intensity=10,\n",
    "                                 point_radius=.0015)\n",
    "\n",
    "# Add layer\n",
    "fig2.add_layer(heat_layer2)\n",
    "\n",
    "# Display figure\n",
    "fig2"
   ]
  },
  {
   "cell_type": "code",
   "execution_count": null,
   "metadata": {},
   "outputs": [],
   "source": []
  }
 ],
 "metadata": {
  "kernelspec": {
   "display_name": "Python 3",
   "language": "python",
   "name": "python3"
  },
  "language_info": {
   "codemirror_mode": {
    "name": "ipython",
    "version": 3
   },
   "file_extension": ".py",
   "mimetype": "text/x-python",
   "name": "python",
   "nbconvert_exporter": "python",
   "pygments_lexer": "ipython3",
   "version": "3.7.3"
  }
 },
 "nbformat": 4,
 "nbformat_minor": 2
}
